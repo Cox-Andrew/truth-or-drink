{
 "cells": [
  {
   "cell_type": "code",
   "execution_count": 2,
   "metadata": {},
   "outputs": [],
   "source": [
    "import pypdfium2 as pdfium\n",
    "from pathlib import Path\n",
    "from PIL import Image, ImageDraw\n",
    "import json"
   ]
  },
  {
   "cell_type": "code",
   "execution_count": 3,
   "metadata": {},
   "outputs": [],
   "source": [
    "def invert_y(rect, y_max):\n",
    "  return (rect[0], y_max - rect[1], rect[2], y_max - rect[3])"
   ]
  },
  {
   "cell_type": "code",
   "execution_count": 4,
   "metadata": {},
   "outputs": [],
   "source": [
    "card_packs = {\n",
    "  'on-the-rocks': {\n",
    "    'name': 'On The Rocks',\n",
    "    'cards': ['Test?'],\n",
    "  },\n",
    "  'extra-dirty': {\n",
    "    'name': 'Extra Dirty',\n",
    "    'cards': [],\n",
    "    },\n",
    "  'happy-hour': {\n",
    "    'name': 'Happy Hour',\n",
    "    'cards': [],\n",
    "    },\n",
    "  'last-call': {\n",
    "    'name': 'Last Call',\n",
    "    'cards': [],\n",
    "    },\n",
    "}"
   ]
  },
  {
   "cell_type": "code",
   "execution_count": 5,
   "metadata": {},
   "outputs": [
    {
     "name": "stdout",
     "output_type": "stream",
     "text": [
      "Now processing On The Rocks ('cards-on-the-rocks.pdf')\n",
      "Now processing Extra Dirty ('cards-extra-dirty.pdf')\n"
     ]
    }
   ],
   "source": [
    "X_STEP = 197\n",
    "Y_STEP = 281\n",
    "X_0 = 20\n",
    "Y_0 = 610\n",
    "CARD_WIDTH = 170\n",
    "CARD_HEIGHT = 185\n",
    "WIDTH = 596\n",
    "HEIGHT = 842\n",
    "\n",
    "for pack in card_packs.keys():\n",
    "  print(f\"Now processing {card_packs[pack]['name']} ('cards-{pack}.pdf')\")\n",
    "  pdf = pdfium.PdfDocument(str(Path('pdfs') / f'cards-{pack}.pdf'))\n",
    "\n",
    "  for page_idx in range(len(pdf)):\n",
    "    text_page = pdf.get_textpage(page_idx)\n",
    "\n",
    "    pil_image = pdf.render_page_topil(page_idx)\n",
    "    drawer = ImageDraw.Draw(pil_image)\n",
    "\n",
    "    for y in range(Y_0, 0, -Y_STEP):\n",
    "      for x in range(X_0, WIDTH, X_STEP):\n",
    "        rect = (x, y, x + CARD_WIDTH, y + CARD_HEIGHT)\n",
    "        drawer.rectangle(\n",
    "          invert_y(rect, HEIGHT),\n",
    "          outline=(255,0,0),\n",
    "        )\n",
    "\n",
    "        card_packs[pack]['cards'].append(text_page.get_text(*rect))\n",
    "    \n",
    "    pil_image.show()"
   ]
  },
  {
   "cell_type": "code",
   "execution_count": 102,
   "metadata": {},
   "outputs": [],
   "source": [
    "with open('packs.json', 'w') as out_file:\n",
    "  json.dump(card_packs, out_file)"
   ]
  }
 ],
 "metadata": {
  "interpreter": {
   "hash": "266f86e07319540c5b4b1e4713eb431a558a57d6c270f2c9371e310d3c62b9fd"
  },
  "kernelspec": {
   "display_name": "Python 3.7.9 ('textract-venv': venv)",
   "language": "python",
   "name": "python3"
  },
  "language_info": {
   "codemirror_mode": {
    "name": "ipython",
    "version": 3
   },
   "file_extension": ".py",
   "mimetype": "text/x-python",
   "name": "python",
   "nbconvert_exporter": "python",
   "pygments_lexer": "ipython3",
   "version": "3.7.9"
  },
  "orig_nbformat": 4
 },
 "nbformat": 4,
 "nbformat_minor": 2
}
